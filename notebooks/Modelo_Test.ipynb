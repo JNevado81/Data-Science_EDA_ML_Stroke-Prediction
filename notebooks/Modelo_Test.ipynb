{
 "cells": [
  {
   "cell_type": "code",
   "execution_count": 9,
   "metadata": {},
   "outputs": [],
   "source": [
    "import pandas as pd\n",
    "\n",
    "import seaborn as sns\n",
    "import matplotlib.pyplot as plt\n",
    "\n",
    "from sklearn.preprocessing import StandardScaler\n",
    "from sklearn.model_selection import cross_val_score\n",
    "from sklearn.metrics import accuracy_score, confusion_matrix, roc_curve, auc, roc_auc_score\n",
    "\n",
    "import pickle\n",
    "\n",
    "import warnings\n",
    "warnings.filterwarnings('ignore')"
   ]
  },
  {
   "attachments": {},
   "cell_type": "markdown",
   "metadata": {},
   "source": [
    "### EVALUAR TEST"
   ]
  },
  {
   "cell_type": "code",
   "execution_count": 10,
   "metadata": {},
   "outputs": [],
   "source": [
    "filename_prod = '../model/production/model'\n",
    "\n",
    "with open(filename_prod, 'rb') as archivo_entrada:\n",
    "    modelo_importado = pickle.load(archivo_entrada)"
   ]
  },
  {
   "cell_type": "code",
   "execution_count": 11,
   "metadata": {},
   "outputs": [
    {
     "name": "stdout",
     "output_type": "stream",
     "text": [
      "<class 'pandas.core.frame.DataFrame'>\n",
      "RangeIndex: 8170 entries, 0 to 8169\n",
      "Data columns (total 9 columns):\n",
      " #   Column                Non-Null Count  Dtype  \n",
      "---  ------                --------------  -----  \n",
      " 0   index                 8170 non-null   int64  \n",
      " 1   Género                8170 non-null   float64\n",
      " 2   Hipertensión          8170 non-null   int64  \n",
      " 3   Cardiopatía           8170 non-null   int64  \n",
      " 4   Casado                8170 non-null   int64  \n",
      " 5   AVG-Nivel de glucosa  8170 non-null   float64\n",
      " 6   Glucosa_IMC           8170 non-null   float64\n",
      " 7   Hiper_Cardiopatía     8170 non-null   int64  \n",
      " 8   Infarto               8170 non-null   int64  \n",
      "dtypes: float64(3), int64(6)\n",
      "memory usage: 574.6 KB\n"
     ]
    }
   ],
   "source": [
    "df_test = pd.read_csv('../data/test.csv')\n",
    "df_test.reset_index(inplace=True)\n",
    "df_test.info()"
   ]
  },
  {
   "cell_type": "code",
   "execution_count": 12,
   "metadata": {},
   "outputs": [
    {
     "data": {
      "text/html": [
       "<div>\n",
       "<style scoped>\n",
       "    .dataframe tbody tr th:only-of-type {\n",
       "        vertical-align: middle;\n",
       "    }\n",
       "\n",
       "    .dataframe tbody tr th {\n",
       "        vertical-align: top;\n",
       "    }\n",
       "\n",
       "    .dataframe thead th {\n",
       "        text-align: right;\n",
       "    }\n",
       "</style>\n",
       "<table border=\"1\" class=\"dataframe\">\n",
       "  <thead>\n",
       "    <tr style=\"text-align: right;\">\n",
       "      <th></th>\n",
       "      <th>index</th>\n",
       "      <th>Género</th>\n",
       "      <th>Hipertensión</th>\n",
       "      <th>Cardiopatía</th>\n",
       "      <th>Casado</th>\n",
       "      <th>AVG-Nivel de glucosa</th>\n",
       "      <th>Glucosa_IMC</th>\n",
       "      <th>Hiper_Cardiopatía</th>\n",
       "      <th>Infarto</th>\n",
       "    </tr>\n",
       "  </thead>\n",
       "  <tbody>\n",
       "    <tr>\n",
       "      <th>count</th>\n",
       "      <td>8170.000000</td>\n",
       "      <td>8170.000000</td>\n",
       "      <td>8170.000000</td>\n",
       "      <td>8170.000000</td>\n",
       "      <td>8170.000000</td>\n",
       "      <td>8170.000000</td>\n",
       "      <td>8170.000000</td>\n",
       "      <td>8170.000000</td>\n",
       "      <td>8170.000000</td>\n",
       "    </tr>\n",
       "    <tr>\n",
       "      <th>mean</th>\n",
       "      <td>4084.500000</td>\n",
       "      <td>0.556548</td>\n",
       "      <td>0.212240</td>\n",
       "      <td>0.124480</td>\n",
       "      <td>0.824725</td>\n",
       "      <td>0.310523</td>\n",
       "      <td>0.216290</td>\n",
       "      <td>0.336720</td>\n",
       "      <td>0.498286</td>\n",
       "    </tr>\n",
       "    <tr>\n",
       "      <th>std</th>\n",
       "      <td>2358.620183</td>\n",
       "      <td>0.496822</td>\n",
       "      <td>0.408919</td>\n",
       "      <td>0.330148</td>\n",
       "      <td>0.380226</td>\n",
       "      <td>0.266960</td>\n",
       "      <td>0.158762</td>\n",
       "      <td>0.547721</td>\n",
       "      <td>0.500028</td>\n",
       "    </tr>\n",
       "    <tr>\n",
       "      <th>min</th>\n",
       "      <td>0.000000</td>\n",
       "      <td>0.000000</td>\n",
       "      <td>0.000000</td>\n",
       "      <td>0.000000</td>\n",
       "      <td>0.000000</td>\n",
       "      <td>0.000000</td>\n",
       "      <td>0.000000</td>\n",
       "      <td>0.000000</td>\n",
       "      <td>0.000000</td>\n",
       "    </tr>\n",
       "    <tr>\n",
       "      <th>25%</th>\n",
       "      <td>2042.250000</td>\n",
       "      <td>0.000000</td>\n",
       "      <td>0.000000</td>\n",
       "      <td>0.000000</td>\n",
       "      <td>1.000000</td>\n",
       "      <td>0.109316</td>\n",
       "      <td>0.104558</td>\n",
       "      <td>0.000000</td>\n",
       "      <td>0.000000</td>\n",
       "    </tr>\n",
       "    <tr>\n",
       "      <th>50%</th>\n",
       "      <td>4084.500000</td>\n",
       "      <td>1.000000</td>\n",
       "      <td>0.000000</td>\n",
       "      <td>0.000000</td>\n",
       "      <td>1.000000</td>\n",
       "      <td>0.197743</td>\n",
       "      <td>0.150976</td>\n",
       "      <td>0.000000</td>\n",
       "      <td>0.000000</td>\n",
       "    </tr>\n",
       "    <tr>\n",
       "      <th>75%</th>\n",
       "      <td>6126.750000</td>\n",
       "      <td>1.000000</td>\n",
       "      <td>0.000000</td>\n",
       "      <td>0.000000</td>\n",
       "      <td>1.000000</td>\n",
       "      <td>0.531057</td>\n",
       "      <td>0.298491</td>\n",
       "      <td>1.000000</td>\n",
       "      <td>1.000000</td>\n",
       "    </tr>\n",
       "    <tr>\n",
       "      <th>max</th>\n",
       "      <td>8169.000000</td>\n",
       "      <td>1.000000</td>\n",
       "      <td>1.000000</td>\n",
       "      <td>1.000000</td>\n",
       "      <td>1.000000</td>\n",
       "      <td>1.000000</td>\n",
       "      <td>1.000000</td>\n",
       "      <td>2.000000</td>\n",
       "      <td>1.000000</td>\n",
       "    </tr>\n",
       "  </tbody>\n",
       "</table>\n",
       "</div>"
      ],
      "text/plain": [
       "             index       Género  Hipertensión  Cardiopatía       Casado  \\\n",
       "count  8170.000000  8170.000000   8170.000000  8170.000000  8170.000000   \n",
       "mean   4084.500000     0.556548      0.212240     0.124480     0.824725   \n",
       "std    2358.620183     0.496822      0.408919     0.330148     0.380226   \n",
       "min       0.000000     0.000000      0.000000     0.000000     0.000000   \n",
       "25%    2042.250000     0.000000      0.000000     0.000000     1.000000   \n",
       "50%    4084.500000     1.000000      0.000000     0.000000     1.000000   \n",
       "75%    6126.750000     1.000000      0.000000     0.000000     1.000000   \n",
       "max    8169.000000     1.000000      1.000000     1.000000     1.000000   \n",
       "\n",
       "       AVG-Nivel de glucosa  Glucosa_IMC  Hiper_Cardiopatía      Infarto  \n",
       "count           8170.000000  8170.000000        8170.000000  8170.000000  \n",
       "mean               0.310523     0.216290           0.336720     0.498286  \n",
       "std                0.266960     0.158762           0.547721     0.500028  \n",
       "min                0.000000     0.000000           0.000000     0.000000  \n",
       "25%                0.109316     0.104558           0.000000     0.000000  \n",
       "50%                0.197743     0.150976           0.000000     0.000000  \n",
       "75%                0.531057     0.298491           1.000000     1.000000  \n",
       "max                1.000000     1.000000           2.000000     1.000000  "
      ]
     },
     "execution_count": 12,
     "metadata": {},
     "output_type": "execute_result"
    }
   ],
   "source": [
    "df_test.describe()"
   ]
  },
  {
   "cell_type": "code",
   "execution_count": 13,
   "metadata": {},
   "outputs": [
    {
     "name": "stdout",
     "output_type": "stream",
     "text": [
      "(8170, 7)\n",
      "(8170,)\n"
     ]
    }
   ],
   "source": [
    "X_test = df_test.drop(columns=['index', 'Infarto'])\n",
    "y_test = df_test['Infarto']\n",
    "\n",
    "print(X_test.shape)\n",
    "print(y_test.shape)"
   ]
  },
  {
   "cell_type": "code",
   "execution_count": 14,
   "metadata": {},
   "outputs": [
    {
     "name": "stdout",
     "output_type": "stream",
     "text": [
      "0.959\n",
      "0.959\n"
     ]
    },
    {
     "data": {
      "text/plain": [
       "0.959"
      ]
     },
     "execution_count": 14,
     "metadata": {},
     "output_type": "execute_result"
    }
   ],
   "source": [
    "scaler = StandardScaler().fit(X_test)\n",
    "X_test_scaled = scaler.transform(X_test)\n",
    "\n",
    "y_pred = modelo_importado.predict(X_test_scaled)\n",
    "\n",
    "fpr, tpr, thresh = roc_curve(y_test, y_pred)\n",
    "print(auc(fpr, tpr).round(3))\n",
    "print(roc_auc_score(y_test, y_pred).round(3))\n",
    "accuracy_score(y_test, y_pred).round(3)"
   ]
  },
  {
   "cell_type": "code",
   "execution_count": 15,
   "metadata": {},
   "outputs": [
    {
     "data": {
      "image/png": "[encoded data removed]",
      "text/plain": [
       "<Figure size 500x500 with 1 Axes>"
      ]
     },
     "metadata": {},
     "output_type": "display_data"
    }
   ],
   "source": [
    "error = y_pred - y_test\n",
    "\n",
    "plt.figure(figsize=(5, 5))\n",
    "plt.hist(error, bins=15);"
   ]
  },
  {
   "cell_type": "code",
   "execution_count": 16,
   "metadata": {},
   "outputs": [
    {
     "data": {
      "text/plain": [
       "array([[0.95340327, 0.04659673],\n",
       "       [0.0351265 , 0.9648735 ]])"
      ]
     },
     "execution_count": 16,
     "metadata": {},
     "output_type": "execute_result"
    }
   ],
   "source": [
    "c_mat = confusion_matrix(y_test, y_pred, normalize='true')\n",
    "c_mat"
   ]
  },
  {
   "cell_type": "code",
   "execution_count": 17,
   "metadata": {},
   "outputs": [
    {
     "data": {
      "image/png": "[encoded data removed]",
      "text/plain": [
       "<Figure size 500x500 with 2 Axes>"
      ]
     },
     "metadata": {},
     "output_type": "display_data"
    }
   ],
   "source": [
    "plt.figure(figsize=(5, 5))\n",
    "sns.heatmap(c_mat, annot=True);"
   ]
  },
  {
   "cell_type": "code",
   "execution_count": 18,
   "metadata": {},
   "outputs": [
    {
     "data": {
      "image/png": "[encoded data removed]",
      "text/plain": [
       "<Figure size 500x500 with 1 Axes>"
      ]
     },
     "metadata": {},
     "output_type": "display_data"
    }
   ],
   "source": [
    "plt.figure(figsize=(5, 5))\n",
    "plt.scatter(y_test, y_pred);"
   ]
  },
  {
   "attachments": {},
   "cell_type": "markdown",
   "metadata": {},
   "source": [
    "### EXPORTAR CSV CON LAS PREDICCIONES"
   ]
  },
  {
   "cell_type": "code",
   "execution_count": 19,
   "metadata": {},
   "outputs": [],
   "source": [
    "df_test['Predicción'] = y_pred\n",
    "\n",
    "submission = pd.DataFrame({'Id': df_test['index'], 'Predicción': df_test['Predicción']})\n",
    "\n",
    "submission.to_csv('../data/submission.csv', index = False) # Muy importante --> index=False"
   ]
  }
 ],
 "metadata": {
  "kernelspec": {
   "display_name": "Python 3",
   "language": "python",
   "name": "python3"
  },
  "language_info": {
   "codemirror_mode": {
    "name": "ipython",
    "version": 3
   },
   "file_extension": ".py",
   "mimetype": "text/x-python",
   "name": "python",
   "nbconvert_exporter": "python",
   "pygments_lexer": "ipython3",
   "version": "3.7.4"
  },
  "orig_nbformat": 4,
  "vscode": {
   "interpreter": {
    "hash": "1122e6d76cd28a13f8c04dc8d6c3c29866becabd357bbd5e338295a9908c215e"
   }
  }
 },
 "nbformat": 4,
 "nbformat_minor": 2
}
